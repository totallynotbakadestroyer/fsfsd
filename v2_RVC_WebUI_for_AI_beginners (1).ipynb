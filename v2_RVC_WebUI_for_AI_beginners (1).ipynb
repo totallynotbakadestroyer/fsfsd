{
  "nbformat": 4,
  "nbformat_minor": 0,
  "metadata": {
    "colab": {
      "provenance": [],
      "collapsed_sections": [
        "4o6Zc449feSx",
        "K_yRrDrkhVGU",
        "TOz9ipJAicp1",
        "9Z2KUaTqjiug",
        "zi0YMWl6kodB",
        "UwsFZP4vnfFz",
        "xX2-E4l_r0B9",
        "aTzm-QeEx6sh"
      ]
    },
    "kernelspec": {
      "name": "python3",
      "display_name": "Python 3"
    },
    "language_info": {
      "name": "python"
    },
    "accelerator": "GPU",
    "gpuClass": "standard"
  },
  "cells": [
    {
      "cell_type": "markdown",
      "source": [
        "# **【RVC v2 model supported Original Edition：How to start the RVC WebUI】**<br>\n"
      ],
      "metadata": {
        "id": "abHLgoqK-wvt"
      }
    },
    {
      "cell_type": "markdown",
      "source": [
        "Some of you may want to use the RVC WebUI, <br><br>\n",
        "\n",
        "**RVC WebUI：**<br>\n",
        "[RVC-Project（previously known as liujing04）/Retrieval-based-Voice-Conversion-WebUI（The MIT License）| GitHub](https://github.com/RVC-Project/Retrieval-based-Voice-Conversion-WebUI)\n",
        "<br><br>\n",
        "\n",
        "the AI voice changer released in April 2023, but are saddened by the fact that you don't know how on earth to use it....\n",
        "\n",
        "<br>\n",
        "How to use the program,<br><br>\n",
        "\n",
        "**・Machine learning program rules**<br>\n",
        "**・Understanding of file structure to some extent**<br>\n",
        "**・How to specify files**\n",
        "<br><br>\n",
        "I suspect that if you don't know how to translate a file, you may not be able to get a handle on it.\n",
        "<br>\n",
        "So, in order to make it easier for Japanese people who are interested in RVC WebUI to enjoy AI voice changers, I will summarize how to use Google Colaboratory to launch RVC WebUI and create an original AI voice changer.<br><br>\n",
        "I hope that this series of information will provide you with an opportunity to get in touch with AI Voice Changer.<br>\n",
        "I have made the program code compatible with version 2 of the official RVC pre-trained model (RVC v2 model), which was released in mid-May 2023.<br>\n",
        "<br>\n",
        "<b>Note:</b> <br>\n",
        "As of May 2023, the \"**RVC v2 model**\" will be available only when the sampling frequency is set to \"**40kHz**\" during training.<br>\n",
        "→ It seems that the \"**32k**\" and \"**48k**\" models were also released on June 18, 2023, so I have enabled them in the tutorial code as well.\n",
        "<br><br>\n",
        "**【How to run the code on Google Colaboratory】**<br><br>\n",
        "To begin with, to run the program on Google Colaboratory, follow the steps in\n",
        "<br><br>\n",
        "**①Sign in with your Google account**<br>\n",
        "**②Save a copy in Drive**（Save **\"v2-RVC-WebUI-for-AI-beginners.ipynb\"**）<br>\n",
        "＊ From the Google Colaboratory menu **\"File - Save a copy in Drive\"**\n",
        "<br><br>\n",
        "rename it to your choice, and then run the following code.<br><br>\n",
        "To run the code, just have them do the steps in\n",
        "<br><br>\n",
        "・**Run all**<br>\n",
        "＊ From the Google Colaboratory menu **\"Runtime - Run all\"**\n",
        "<br><br>\n",
        "Once you get the gist of it, the procedure to start the RVC WebUI is easy.\n",
        "<br><br><br>\n",
        "**【Confirmed event: May 30, 2023】**<br>\n",
        "The May 30, 2023 update：\n",
        "\n",
        "1.Vocal remover is now written in Chinese.（Translation was not yet implemented when the English version was made.）<br>\n",
        "→ As of June 2, 2023, already translated into English.<br>\n",
        "2.Addition of \"crepe\" and \"Protect voiceless consonant and breath, less artifact. Protect voiceless consonant and breath, less artifact.\" in inference<br>\n",
        "\n",
        "was done.<br>\n",
        "\n",
        "At the time of confirmation,<br>\n",
        "\n",
        "1.**\"RuntimeError: Failed to load audio: ffmpeg error (see stderr output for detail)\"** was displayed when loading a dataset file during training(Train), but training was possible.\n",
        "2.In **\"Model Inference\"**, if **\"select pitch extraction algorithm\"** was set to **\"creep\"**, it seemed to cause an error.<br>\n",
        "→I have modified the Google Colaboratory code for the May 31, 2023 update so that **\"crepe\"** can be used.<br>\n",
        "3.The **\"Export Onnx\"** function seemed to cause an error when trying to convert an RVC v2 model.<br>\n",
        "→ The bug was fixed in the June 16, 2023 update.<br>\n",
        "I will see how it progresses.\n",
        "<br>\n",
        "<br>\n",
        "**【Confirmatory event： June 16, 2023】**<br>\n",
        "Error when starting RVC WebUI\n",
        "\n",
        "**AttributeError: module 'gradio.components' has no attribute 'FormComponent'. Did you mean: 'IOComponent'?**\n",
        "\n",
        "is now fixed so that it does not appear.\n",
        "<br>\n",
        "<br>\n",
        "**【Information： June 18, 2023】**<br>\n",
        "A tutorial video is now available.<br>\n",
        "If you can use this video in case you cannot understand the text information alone, I hope you will find it useful.<br><br>\n",
        "**RVC WebUI tutorial video for RVC v2 model supported version：**<br>\n",
        "[【The Magic of Modern Times】How to use RVC WebUI（RVC v2 model supported）- Tutorial for AI Beginners by RehabC（YouTube）](https://youtu.be/wPoct7LSyOo)<br>\n",
        "Video viewing time： 35 min. 27 sec.\n",
        "<br>\n",
        "<br>\n",
        "**【Confirmatory event： July 18, 2023】**<br>\n",
        "Error when starting RVC WebUI\n",
        "\n",
        "**ModuleNotFoundError: No module named 'faiss'**\n",
        "\n",
        "is now fixed so that it does not appear.\n",
        "<br>\n",
        "<br>\n",
        "<br>"
      ],
      "metadata": {
        "id": "xOVrHQL9Arhq"
      }
    },
    {
      "cell_type": "markdown",
      "source": [
        "**【Licensing of the Program】**\n",
        "<br>**The MIT License**\n",
        "\n",
        "Copyright 2023 child programmer\n",
        "\n",
        "Permission is hereby granted, free of charge, to any person obtaining a copy of this software and associated documentation files (the \"Software\"), to deal in the Software without restriction, including without limitation the rights to use, copy, modify, merge, publish, distribute, sublicense, and/or sell copies of the Software, and to permit persons to whom the Software is furnished to do so, subject to the following conditions:\n",
        "\n",
        "The above copyright notice and this permission notice shall be included in all copies or substantial portions of the Software.\n",
        "\n",
        "THE SOFTWARE IS PROVIDED \"AS IS\", WITHOUT WARRANTY OF ANY KIND, EXPRESS OR IMPLIED, INCLUDING BUT NOT LIMITED TO THE WARRANTIES OF MERCHANTABILITY, FITNESS FOR A PARTICULAR PURPOSE AND NONINFRINGEMENT. IN NO EVENT SHALL THE AUTHORS OR COPYRIGHT HOLDERS BE LIABLE FOR ANY CLAIM, DAMAGES OR OTHER LIABILITY, WHETHER IN AN ACTION OF CONTRACT, TORT OR OTHERWISE, ARISING FROM, OUT OF OR IN CONNECTION WITH THE SOFTWARE OR THE USE OR OTHER DEALINGS IN THE SOFTWARE."
      ],
      "metadata": {
        "id": "qplBYYfMDH0g"
      }
    },
    {
      "cell_type": "markdown",
      "source": [
        "# **【Step 1: Check the GPU】**<br>\n",
        "If you are unable to check your GPU with the following commands, go to the Google Colaboratory menu<br><br>\n",
        "「**Runtime - Change runtime type - Hardware accelerator**」\n",
        "<br><br>\n",
        "and select **\"GPU\"**, then save and try running the code again.\n"
      ],
      "metadata": {
        "id": "4o6Zc449feSx"
      }
    },
    {
      "cell_type": "code",
      "execution_count": null,
      "metadata": {
        "colab": {
          "base_uri": "https://localhost:8080/"
        },
        "id": "JFX_3e6_fXLK",
        "outputId": "59d2ba8e-397a-46a9-cab2-f0f5c61c97c2"
      },
      "outputs": [
        {
          "output_type": "stream",
          "name": "stdout",
          "text": [
            "Mon Apr 24 06:35:53 2023       \n",
            "+-----------------------------------------------------------------------------+\n",
            "| NVIDIA-SMI 525.85.12    Driver Version: 525.85.12    CUDA Version: 12.0     |\n",
            "|-------------------------------+----------------------+----------------------+\n",
            "| GPU  Name        Persistence-M| Bus-Id        Disp.A | Volatile Uncorr. ECC |\n",
            "| Fan  Temp  Perf  Pwr:Usage/Cap|         Memory-Usage | GPU-Util  Compute M. |\n",
            "|                               |                      |               MIG M. |\n",
            "|===============================+======================+======================|\n",
            "|   0  Tesla T4            Off  | 00000000:00:04.0 Off |                    0 |\n",
            "| N/A   42C    P8     9W /  70W |      0MiB / 15360MiB |      0%      Default |\n",
            "|                               |                      |                  N/A |\n",
            "+-------------------------------+----------------------+----------------------+\n",
            "                                                                               \n",
            "+-----------------------------------------------------------------------------+\n",
            "| Processes:                                                                  |\n",
            "|  GPU   GI   CI        PID   Type   Process name                  GPU Memory |\n",
            "|        ID   ID                                                   Usage      |\n",
            "|=============================================================================|\n",
            "|  No running processes found                                                 |\n",
            "+-----------------------------------------------------------------------------+\n",
            "nvcc: NVIDIA (R) Cuda compiler driver\n",
            "Copyright (c) 2005-2022 NVIDIA Corporation\n",
            "Built on Wed_Sep_21_10:33:58_PDT_2022\n",
            "Cuda compilation tools, release 11.8, V11.8.89\n",
            "Build cuda_11.8.r11.8/compiler.31833905_0\n",
            "              total        used        free      shared  buff/cache   available\n",
            "Mem:           12Gi       655Mi       9.0Gi       1.0Mi       3.0Gi        11Gi\n",
            "Swap:            0B          0B          0B\n"
          ]
        }
      ],
      "source": [
        "!nvidia-smi\n",
        "!nvcc -V\n",
        "!free -h"
      ]
    },
    {
      "cell_type": "markdown",
      "source": [
        "# **【Step 2: Installation of dependencies】**<br>\n",
        "At the time of confirmation, <br><br>\n",
        "\n",
        "\"WARNING: Running pip as the 'root' user can result in broken permissions and conflicting behaviour with the system package manager. It is recommended to use a virtual environment instead: https://pip.pypa.io/warnings/venv\n",
        "WARNING: The following packages were previously imported in this runtime:\n",
        "  [numpy]\n",
        "You must restart the runtime in order to use newly installed versions.<br><br>\n",
        "**RESTART RUNTIME**\"\n",
        "<br><br>\n",
        "warning appears on the first runtime, but it seemed to be OK as is.\n",
        "\n",
        "If you are concerned, click the **\"RESTART RUNTIME\"** button displayed on the screen to restart the runtime, and then execute the code from **\"Step 1\"** again.\n",
        "\n"
      ],
      "metadata": {
        "id": "K_yRrDrkhVGU"
      }
    },
    {
      "cell_type": "code",
      "source": [
        "!pip3 install jedi\n",
        "!apt-get -y install build-essential python3-dev ffmpeg\n",
        "!pip3 install --upgrade setuptools wheel\n",
        "!pip3 install --upgrade pip\n",
        "#-2023.6.20\n",
        "#!pip3 install faiss-gpu fairseq gradio==3.34.0 ffmpeg ffmpeg-python praat-parselmouth pyworld numpy==1.23.5 numba==0.56.4 librosa==0.9.1 tensorboardX tensorboard onnxruntime-gpu onnx torchcrepe==0.0.20\n",
        "#2023.6.20-\n",
        "!pip3 install faiss-cpu==1.7.2 fairseq gradio==3.14.0 ffmpeg ffmpeg-python praat-parselmouth pyworld==0.3.2 numpy==1.23.5 numba==0.56.4 librosa==0.9.1 tensorboardX tensorboard onnxruntime-gpu onnx torchcrepe==0.0.20"
      ],
      "metadata": {
        "id": "D8gFPHcphUle"
      },
      "execution_count": null,
      "outputs": []
    },
    {
      "cell_type": "markdown",
      "source": [
        "# **【Step 3: Clone the RVC WebUI repository from GitHub】**<br>\n",
        "Copy the program **\"Retrieval-based-Voice-Conversion-WebUI\"** from GitHub to Google Colaboratory.<br>\n",
        "The program uses the original version of **\"Retrieval-based-Voice-Conversion-WebUI\"**, which is under development daily."
      ],
      "metadata": {
        "id": "TOz9ipJAicp1"
      }
    },
    {
      "cell_type": "code",
      "source": [
        "!git clone https://github.com/RVC-Project/Retrieval-based-Voice-Conversion-WebUI\n",
        "%cd /content/Retrieval-based-Voice-Conversion-WebUI"
      ],
      "metadata": {
        "colab": {
          "base_uri": "https://localhost:8080/"
        },
        "id": "XB4KyNBjikyF",
        "outputId": "5c7f12fc-da2a-4523-b70f-befa4bca2778"
      },
      "execution_count": null,
      "outputs": [
        {
          "output_type": "stream",
          "name": "stdout",
          "text": [
            "fatal: destination path 'Retrieval-based-Voice-Conversion-WebUI' already exists and is not an empty directory.\n",
            "/content/Retrieval-based-Voice-Conversion-WebUI\n"
          ]
        }
      ]
    },
    {
      "cell_type": "markdown",
      "source": [
        "# **【Step 4: Update to the latest status】**"
      ],
      "metadata": {
        "id": "9Z2KUaTqjiug"
      }
    },
    {
      "cell_type": "code",
      "source": [
        "!git pull"
      ],
      "metadata": {
        "colab": {
          "base_uri": "https://localhost:8080/"
        },
        "id": "i15GWuhvjpbl",
        "outputId": "1d12ecaf-fe06-4c3c-8c95-906df1c346ac"
      },
      "execution_count": null,
      "outputs": [
        {
          "output_type": "stream",
          "name": "stdout",
          "text": [
            "Already up to date.\n"
          ]
        }
      ]
    },
    {
      "cell_type": "markdown",
      "source": [
        "# **【Step 5: Preparation of Pre-trained models, etc.】**\n",
        "In the **\"Preparation of Pre-trained models, etc.\"** section of this program, as of May-June 2023, only **\"40 kHz\"** RVC v2 models are supported.<br>\n",
        "When new sample frequency models are released, I plan to enable the relevant codes as appropriate.<br>\n",
        "→ Other sample frequencies have already been activated on June 20, 2023."
      ],
      "metadata": {
        "id": "zi0YMWl6kodB"
      }
    },
    {
      "cell_type": "code",
      "source": [
        "!apt -y install -qq aria2\n",
        "\n",
        "#pretrained__v1 pre-training model\n",
        "!aria2c --console-log-level=error -c -x 16 -s 16 -k 1M https://huggingface.co/lj1995/VoiceConversionWebUI/resolve/main/pretrained/D32k.pth -d /content/Retrieval-based-Voice-Conversion-WebUI/pretrained -o D32k.pth\n",
        "!aria2c --console-log-level=error -c -x 16 -s 16 -k 1M https://huggingface.co/lj1995/VoiceConversionWebUI/resolve/main/pretrained/D40k.pth -d /content/Retrieval-based-Voice-Conversion-WebUI/pretrained -o D40k.pth\n",
        "!aria2c --console-log-level=error -c -x 16 -s 16 -k 1M https://huggingface.co/lj1995/VoiceConversionWebUI/resolve/main/pretrained/D48k.pth -d /content/Retrieval-based-Voice-Conversion-WebUI/pretrained -o D48k.pth\n",
        "!aria2c --console-log-level=error -c -x 16 -s 16 -k 1M https://huggingface.co/lj1995/VoiceConversionWebUI/resolve/main/pretrained/G32k.pth -d /content/Retrieval-based-Voice-Conversion-WebUI/pretrained -o G32k.pth\n",
        "!aria2c --console-log-level=error -c -x 16 -s 16 -k 1M https://huggingface.co/lj1995/VoiceConversionWebUI/resolve/main/pretrained/G40k.pth -d /content/Retrieval-based-Voice-Conversion-WebUI/pretrained -o G40k.pth\n",
        "!aria2c --console-log-level=error -c -x 16 -s 16 -k 1M https://huggingface.co/lj1995/VoiceConversionWebUI/resolve/main/pretrained/G48k.pth -d /content/Retrieval-based-Voice-Conversion-WebUI/pretrained -o G48k.pth\n",
        "!aria2c --console-log-level=error -c -x 16 -s 16 -k 1M https://huggingface.co/lj1995/VoiceConversionWebUI/resolve/main/pretrained/f0D32k.pth -d /content/Retrieval-based-Voice-Conversion-WebUI/pretrained -o f0D32k.pth\n",
        "!aria2c --console-log-level=error -c -x 16 -s 16 -k 1M https://huggingface.co/lj1995/VoiceConversionWebUI/resolve/main/pretrained/f0D40k.pth -d /content/Retrieval-based-Voice-Conversion-WebUI/pretrained -o f0D40k.pth\n",
        "!aria2c --console-log-level=error -c -x 16 -s 16 -k 1M https://huggingface.co/lj1995/VoiceConversionWebUI/resolve/main/pretrained/f0D48k.pth -d /content/Retrieval-based-Voice-Conversion-WebUI/pretrained -o f0D48k.pth\n",
        "!aria2c --console-log-level=error -c -x 16 -s 16 -k 1M https://huggingface.co/lj1995/VoiceConversionWebUI/resolve/main/pretrained/f0G32k.pth -d /content/Retrieval-based-Voice-Conversion-WebUI/pretrained -o f0G32k.pth\n",
        "!aria2c --console-log-level=error -c -x 16 -s 16 -k 1M https://huggingface.co/lj1995/VoiceConversionWebUI/resolve/main/pretrained/f0G40k.pth -d /content/Retrieval-based-Voice-Conversion-WebUI/pretrained -o f0G40k.pth\n",
        "!aria2c --console-log-level=error -c -x 16 -s 16 -k 1M https://huggingface.co/lj1995/VoiceConversionWebUI/resolve/main/pretrained/f0G48k.pth -d /content/Retrieval-based-Voice-Conversion-WebUI/pretrained -o f0G48k.pth\n",
        "\n",
        "#pretrained_v2 pre-training model：As of May-June 2023, only 40 kHz is supported. As new sample frequency models are released, I will activate the appropriate codes as appropriate.\n",
        "#→ It appeared that other sample frequency models were released on June 18, 2023, so I activated them.\n",
        "!aria2c --console-log-level=error -c -x 16 -s 16 -k 1M https://huggingface.co/lj1995/VoiceConversionWebUI/resolve/main/pretrained_v2/D32k.pth -d /content/Retrieval-based-Voice-Conversion-WebUI/pretrained_v2 -o D32k.pth\n",
        "!aria2c --console-log-level=error -c -x 16 -s 16 -k 1M https://huggingface.co/lj1995/VoiceConversionWebUI/resolve/main/pretrained_v2/D40k.pth -d /content/Retrieval-based-Voice-Conversion-WebUI/pretrained_v2 -o D40k.pth\n",
        "!aria2c --console-log-level=error -c -x 16 -s 16 -k 1M https://huggingface.co/lj1995/VoiceConversionWebUI/resolve/main/pretrained_v2/D48k.pth -d /content/Retrieval-based-Voice-Conversion-WebUI/pretrained_v2 -o D48k.pth\n",
        "!aria2c --console-log-level=error -c -x 16 -s 16 -k 1M https://huggingface.co/lj1995/VoiceConversionWebUI/resolve/main/pretrained_v2/G32k.pth -d /content/Retrieval-based-Voice-Conversion-WebUI/pretrained_v2 -o G32k.pth\n",
        "!aria2c --console-log-level=error -c -x 16 -s 16 -k 1M https://huggingface.co/lj1995/VoiceConversionWebUI/resolve/main/pretrained_v2/G40k.pth -d /content/Retrieval-based-Voice-Conversion-WebUI/pretrained_v2 -o G40k.pth\n",
        "!aria2c --console-log-level=error -c -x 16 -s 16 -k 1M https://huggingface.co/lj1995/VoiceConversionWebUI/resolve/main/pretrained_v2/G48k.pth -d /content/Retrieval-based-Voice-Conversion-WebUI/pretrained_v2 -o G48k.pth\n",
        "!aria2c --console-log-level=error -c -x 16 -s 16 -k 1M https://huggingface.co/lj1995/VoiceConversionWebUI/resolve/main/pretrained_v2/f0D32k.pth -d /content/Retrieval-based-Voice-Conversion-WebUI/pretrained_v2 -o f0D32k.pth\n",
        "!aria2c --console-log-level=error -c -x 16 -s 16 -k 1M https://huggingface.co/lj1995/VoiceConversionWebUI/resolve/main/pretrained_v2/f0D40k.pth -d /content/Retrieval-based-Voice-Conversion-WebUI/pretrained_v2 -o f0D40k.pth\n",
        "!aria2c --console-log-level=error -c -x 16 -s 16 -k 1M https://huggingface.co/lj1995/VoiceConversionWebUI/resolve/main/pretrained_v2/f0D48k.pth -d /content/Retrieval-based-Voice-Conversion-WebUI/pretrained_v2 -o f0D48k.pth\n",
        "!aria2c --console-log-level=error -c -x 16 -s 16 -k 1M https://huggingface.co/lj1995/VoiceConversionWebUI/resolve/main/pretrained_v2/f0G32k.pth -d /content/Retrieval-based-Voice-Conversion-WebUI/pretrained_v2 -o f0G32k.pth\n",
        "!aria2c --console-log-level=error -c -x 16 -s 16 -k 1M https://huggingface.co/lj1995/VoiceConversionWebUI/resolve/main/pretrained_v2/f0G40k.pth -d /content/Retrieval-based-Voice-Conversion-WebUI/pretrained_v2 -o f0G40k.pth\n",
        "!aria2c --console-log-level=error -c -x 16 -s 16 -k 1M https://huggingface.co/lj1995/VoiceConversionWebUI/resolve/main/pretrained_v2/f0G48k.pth -d /content/Retrieval-based-Voice-Conversion-WebUI/pretrained_v2 -o f0G48k.pth\n",
        "\n",
        "\n",
        "#trained model for sound source separation（vocal remove）\n",
        "!aria2c --console-log-level=error -c -x 16 -s 16 -k 1M https://huggingface.co/lj1995/VoiceConversionWebUI/resolve/main/uvr5_weights/HP2-人声vocals+非人声instrumentals.pth -d /content/Retrieval-based-Voice-Conversion-WebUI/uvr5_weights -o HP2-人声vocals+非人声instrumentals.pth\n",
        "!aria2c --console-log-level=error -c -x 16 -s 16 -k 1M https://huggingface.co/lj1995/VoiceConversionWebUI/resolve/main/uvr5_weights/HP5-主旋律人声vocals+其他instrumentals.pth -d /content/Retrieval-based-Voice-Conversion-WebUI/uvr5_weights -o HP5-主旋律人声vocals+其他instrumentals.pth"
      ],
      "metadata": {
        "id": "EKS1RXOfkYkb"
      },
      "execution_count": null,
      "outputs": []
    },
    {
      "cell_type": "markdown",
      "source": [
        "# **【Step 6: Download \"hubert_base.pt\" & \"rmvpe.pt\"】**<br>\n",
        "＊Note: <br>\n",
        "As of the start of the release as of the confirmation on July 11, 2023, selecting \"**rmvpe**\" (the latest RMVPE vocal pitch extraction algorithm) in \"**Model Inference: select the pitch extraction algorithm**\" will result in an error. <br>\n",
        "I will see how it progresses."
      ],
      "metadata": {
        "id": "UwsFZP4vnfFz"
      }
    },
    {
      "cell_type": "code",
      "source": [
        "!aria2c --console-log-level=error -c -x 16 -s 16 -k 1M https://huggingface.co/lj1995/VoiceConversionWebUI/resolve/main/hubert_base.pt -d /content/Retrieval-based-Voice-Conversion-WebUI -o hubert_base.pt\n",
        "!aria2c --console-log-level=error -c -x 16 -s 16 -k 1M https://huggingface.co/lj1995/VoiceConversionWebUI/blob/main/rmvpe.pt -d /content/Retrieval-based-Voice-Conversion-WebUI -o rmvpe.pt"
      ],
      "metadata": {
        "colab": {
          "base_uri": "https://localhost:8080/"
        },
        "id": "MJ_3bPLQneIk",
        "outputId": "a6cda2a5-29a5-45b4-81c4-ae62a5dd3e0f"
      },
      "execution_count": null,
      "outputs": [
        {
          "output_type": "stream",
          "name": "stdout",
          "text": [
            "\n",
            "Download Results:\n",
            "gid   |stat|avg speed  |path/URI\n",
            "======+====+===========+=======================================================\n",
            "6ea7f0|\u001b[1;32mOK\u001b[0m  |   213MiB/s|/content/Retrieval-based-Voice-Conversion-WebUI/hubert_base.pt\n",
            "\n",
            "Status Legend:\n",
            "(OK):download completed.\n"
          ]
        }
      ]
    },
    {
      "cell_type": "markdown",
      "source": [
        "# **【Step 7: Mount Google Drive】**<br>\n",
        "You can use folders and files on Google Drive.<br>\n",
        "After executing the following code, you will be asked for permission, so **\"Allow\"** with your Google Drive Google account."
      ],
      "metadata": {
        "id": "xX2-E4l_r0B9"
      }
    },
    {
      "cell_type": "code",
      "source": [
        "from google.colab import drive\n",
        "drive.mount('/content/drive')"
      ],
      "metadata": {
        "colab": {
          "base_uri": "https://localhost:8080/"
        },
        "id": "31yNr6iIsDIc",
        "outputId": "6fa8b7a9-72ef-4ed6-db37-2927dd6e8d36"
      },
      "execution_count": null,
      "outputs": [
        {
          "output_type": "stream",
          "name": "stdout",
          "text": [
            "Mounted at /content/drive\n"
          ]
        }
      ]
    },
    {
      "cell_type": "markdown",
      "source": [
        "# **【Step 8: Prepare the dataset and the audio file to be converted to voice in Google Drive.】**<br>\n",
        "In [Google Drive](https://www.google.com/intl/ja_ALL/drive/)'s **\"MyDrive\"**, prepare a <br><br>\n",
        "**・\"dataset\"**<br><br>\n",
        "in the **\"MyDrive\"** folder of Google Drive.\n",
        "\n",
        "Also, upload the voice files (WAV or MP3 format) that you would like to try inference (voice conversion).\n",
        "<br><br>\n",
        "**【Folder Structure】**<br>\n",
        "dataset<br>\n",
        "　|---  〜1.wav<br>\n",
        "　|---  〜2.wav<br>\n",
        "　|---  〜3.wav<br>\n",
        "　|---  〜4.wav<br>\n",
        "　・<br>\n",
        "　・<br>\n",
        "　・<br>\n",
        "　|--- 〜10.wav<br>\n",
        "<br>\n",
        "＊As an example, the **\"dataset\"** folder should contain several audio files in WAV format separated by short sentences (sentences up to the punctuation point).<br>\n",
        "＊In this tutorial, I was training with **\"10\"** audio files of **\"1-3 seconds\"**. If you want to convert audio in earnest, increasing the number of audio files and the number of learning times (number of Epochs) may reduce the machine sound and other problems. <br>\n",
        "（It seems that a GPU with more memory is better.<br>\n",
        "＊The official RVC Q&A states that <br>\n",
        "the recommended audio duration for a data set<br>\n",
        "　\"appears to be 10-50 minutes.\" <br>\n",
        "　\"For high quality datasets, 5-10 minutes seems to be recommended.\"<br>\n",
        "For the number of training epochs, <br>\n",
        "　\"20 to 30 epochs (number of training epochs) seems to be recommended for low-quality, noisy audio.\"<br>\n",
        "　(Increasing the number of training epochs with low quality audio does not improve the quality of the audio.)<br>\n",
        "　\"For high quality audio, the acceptable training frequency is 200 epochs.\"\n",
        "<br><br>\n",
        "To create audio files to be trained, I have seen a number of ways to use audio editing applications such as<br><br>\n",
        "・**Audacity**<br><br>\n",
        "and other audio editing applications to create the audio files to be trained.<br>\n",
        "How long should the audio files for each data set be? I am not sure, but the producer explains\n",
        "<br><br>\n",
        "**\"Use less than 10 minutes vocal to fast train a voice conversion model!\"**<br>\n",
        "<br><br>\n",
        "I looked up related information on the Internet, and also looked at currently distributed audio corpora, and found that\n",
        "<br><br>\n",
        "**・each file contains only a few seconds of audio**\n",
        "<br><br>\n",
        "So, after learning how to use the RVC WebUI to some extent, please try various trial-and-error methods.\n",
        "<br><br><br>\n",
        "**【About the audio material used in this tutorial】**<br>\n",
        "Before creating your own original AI voice changer of your choice, many of you may first want to learn a series of operating procedures to try out.\n",
        "\n",
        "I searched for information and found that some people have given us permission to use the voice changers, so I have used the following audio for training in this tutorial.<br><br>\n",
        "**AI Voice Changer Training Voice (female voice) audio download:**<br>\n",
        "[あみたろの声素材（セリフ素材）一括ダウンロード | あみたろの声素材工房](https://amitaro.net/voice/voice_dl/serifzip/)<br>\n",
        "（PCM44,100Hz/16-bit/monaural WAV format）<br>\n",
        "Credit Information：あみたろの声素材工房 https://amitaro.net/<br><br>\n",
        "\n",
        "In addition, I have made the audio material before converting to **\"Amitaro's\"** voice available for download from this page, so please use it if necessary.<br><br>\n",
        "**Download audio material of a voice (male voice) testing inferences:**<br>\n",
        "[Download: Voice material (male voice) to try model inference (AI voice change) ](https://child-programmer.com/download/ai-voice-change-tutorial-en/)<br>\n",
        "（Sample rate 48,000Hz/24-bit/stereo WAV format）\n",
        "<br><br>\n",
        "The voice material before conversion was partially extracted from this audio.<br><br>\n",
        "**The source of the voice material for testing  model inferences:**<br>\n",
        "[People's Speech Dataset（CC-BY and CC-BY-SA）| MLCommons](https://mlcommons.org/en/peoples-speech/)\n",
        "<br><br>\n"
      ],
      "metadata": {
        "id": "knav5ocrss57"
      }
    },
    {
      "cell_type": "markdown",
      "source": [
        "# **【Step 9: Conversion of duplicate file names】<br>**\n",
        "Rename duplicate files in the dataset (**\"dataset\"** folder)."
      ],
      "metadata": {
        "id": "aTzm-QeEx6sh"
      }
    },
    {
      "cell_type": "code",
      "source": [
        "!ls -a /content/drive/MyDrive/dataset\n",
        "!rename 's/(\\w+)\\.(\\w+)~(\\d*)/$1_$3.$2/' /content/drive/MyDrive/dataset/*.*~*"
      ],
      "metadata": {
        "colab": {
          "base_uri": "https://localhost:8080/"
        },
        "id": "QXVuXv5rx5xx",
        "outputId": "83d0ba81-a37e-4483-ccea-cfc4b28d5aaa"
      },
      "execution_count": null,
      "outputs": [
        {
          "output_type": "stream",
          "name": "stdout",
          "text": [
            "ls: cannot access '/content/dataset/': No such file or directory\n"
          ]
        }
      ]
    },
    {
      "cell_type": "markdown",
      "source": [
        "# **【Step 10: Launch the RVC WebUI】**<br>\n",
        "Training and model inference (voice conversion) is performed on the web interface.\n",
        "\n",
        "You can use the RVC WebUI by clicking on the<br><br>\n",
        "\n",
        "***Running on public URL: https://〜.gradio.live***<br><br>\n",
        "URL that appears after running the following code<br><br>\n",
        "It seems that if the Gradio server is down for some reason, the \"**Public URL**\" will not be output.<br>\n",
        "In that case, try executing the series of codes again after some time has passed.\n",
        "<br><br>"
      ],
      "metadata": {
        "id": "rQhXoVY40fJV"
      }
    },
    {
      "cell_type": "code",
      "source": [
        "%cd /content/Retrieval-based-Voice-Conversion-WebUI\n",
        "# %load_ext tensorboard\n",
        "# %tensorboard --logdir /content/Retrieval-based-Voice-Conversion-WebUI/logs\n",
        "!python3 infer-web.py --colab --pycmd python3"
      ],
      "metadata": {
        "id": "7E_4UwGk0zfS"
      },
      "execution_count": null,
      "outputs": []
    },
    {
      "cell_type": "markdown",
      "source": [
        "# **【How to use RVC WebUI】**<br>\n"
      ],
      "metadata": {
        "id": "2VJwwvsb9noD"
      }
    },
    {
      "cell_type": "markdown",
      "source": [
        "# **【Train & Model Inference】**<br>\n",
        "<br>See the following article page.<br><br>\n",
        "**Tutorial Article:**<br>\n",
        "[【RVC v2 model supported】How to use RVC WebUI: Getting Started with AI Voice Changer for beginners by Child Programmer](https://child-programmer.com/ai-voice-change-tutorial-v2-en/)\n",
        "<br><br>\n",
        "\n"
      ],
      "metadata": {
        "id": "_HhxDE3xCvFe"
      }
    },
    {
      "cell_type": "markdown",
      "source": [
        "<br><br>**【publication date】**May 30, 2023<br>\n",
        "**【Last updated】**July 18, 2023<br>\n",
        "\n",
        "<br><br>\n",
        "[日本人のための人工知能プログラマー入門講座（機械学習）by 子供プログラマー](https://child-programmer.com/ai/)<br>\n",
        "An Introductory Course for Japanese Artificial Intelligence Programmers (Machine Learning) by Child Programmer"
      ],
      "metadata": {
        "id": "3vMARapMW2BY"
      }
    }
  ]
}